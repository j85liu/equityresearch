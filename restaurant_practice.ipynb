{
 "cells": [
  {
   "cell_type": "markdown",
   "id": "df0f38e1",
   "metadata": {},
   "source": [
    "## Practice Scenario with Excel Sheet ##\n",
    "\n",
    "Practice Problem: Analyzing Restaurant Sales Trends from Raw Data\n",
    "Scenario:\n",
    "You’ve received raw sales data from a third-party vendor tracking credit card transactions at multiple restaurant locations (e.g., McDonald’s and Chipotle). Your goal is to clean the data, perform ETL (Extract, Transform, Load), and draw insights for a stakeholder dashboard.\n",
    "\n",
    "Excel Columns in restaurant_sales.xlsx:\n",
    "\n",
    "Transaction ID\n",
    "\n",
    "Date\n",
    "\n",
    "Restaurant Name\n",
    "\n",
    "Location\n",
    "\n",
    "Sales Amount\n",
    "\n",
    "Customer ID (optional)\n",
    "\n",
    "Category (e.g., \"Drive-Thru\", \"Dine-In\", \"Delivery\", may be missing or mislabeled)\n",
    "\n"
   ]
  },
  {
   "cell_type": "code",
   "execution_count": 1,
   "id": "1d429531",
   "metadata": {},
   "outputs": [],
   "source": [
    "import pandas as pd\n",
    "import matplotlib.pyplot as plt\n",
    "import seaborn as sns\n",
    "import numpy as np"
   ]
  },
  {
   "cell_type": "code",
   "execution_count": 4,
   "id": "5065aca9",
   "metadata": {},
   "outputs": [
    {
     "name": "stdout",
     "output_type": "stream",
     "text": [
      "Initial Data Overview: \n",
      "                         Transaction ID       Date Restaurant Name  \\\n",
      "0  1973ec33-4711-4407-aebc-37416e08bf2e 2025-05-14      McDonald's   \n",
      "1  40d50788-aaaa-487b-adee-1a85415a399c 2025-05-14      McDonald's   \n",
      "2  43b35c1e-3890-4d6d-b638-6a73b9925f33 2025-05-14       Taco Bell   \n",
      "3  bbe7ebd5-e202-43d7-bed0-07d86f43fdde 2025-05-14        Chipotle   \n",
      "4  1c6756b7-9a45-4a80-8d71-938e1f747d18 2025-05-14        Chipotle   \n",
      "\n",
      "      Location  Sales Amount                           Customer ID  Category  \n",
      "0  Chicago, IL         39.70  d0e0a1da-ea35-4b9c-957b-4d203ee75191   Dine-in  \n",
      "1  Chicago, IL         14.49  31bc8b27-fa11-4c09-a590-634022d3e9f7  Delivery  \n",
      "2  Phoenix, AZ         32.81  2fd903a1-acba-4889-8148-4e305b983943  Deliveri  \n",
      "3  Phoenix, AZ           NaN  46613251-896d-4ae4-bdf2-b75ecd017f03       NaN  \n",
      "4  Houston, TX         29.55                                   NaN  Deliveri  \n",
      "\\nMissing Values\n",
      " Transaction ID       0\n",
      "Date                 0\n",
      "Restaurant Name      0\n",
      "Location             0\n",
      "Sales Amount        46\n",
      "Customer ID         93\n",
      "Category           131\n",
      "dtype: int64\n"
     ]
    }
   ],
   "source": [
    "## Part 1: Load Excel File\n",
    "\n",
    "df = pd.read_excel(\"restaurant_sales.xlsx\")\n",
    "print(\"Initial Data Overview: \")\n",
    "print(df.head())\n",
    "print(\"\\\\nMissing Values\\n\", df.isnull().sum())"
   ]
  },
  {
   "cell_type": "code",
   "execution_count": null,
   "id": "24d0dfae",
   "metadata": {},
   "outputs": [],
   "source": []
  },
  {
   "cell_type": "markdown",
   "id": "92ee9eb6",
   "metadata": {},
   "source": []
  }
 ],
 "metadata": {
  "kernelspec": {
   "display_name": "finance",
   "language": "python",
   "name": "python3"
  },
  "language_info": {
   "codemirror_mode": {
    "name": "ipython",
    "version": 3
   },
   "file_extension": ".py",
   "mimetype": "text/x-python",
   "name": "python",
   "nbconvert_exporter": "python",
   "pygments_lexer": "ipython3",
   "version": "3.13.2"
  }
 },
 "nbformat": 4,
 "nbformat_minor": 5
}
