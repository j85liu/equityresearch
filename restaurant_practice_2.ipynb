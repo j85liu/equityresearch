{
 "cells": [
  {
   "cell_type": "markdown",
   "id": "61e57cdf",
   "metadata": {},
   "source": [
    "## Restaurant Practice 2 ##\n",
    "\n",
    "Dataset: restaurant_transactions.xlsx"
   ]
  },
  {
   "cell_type": "code",
   "execution_count": 1,
   "id": "5a010997",
   "metadata": {},
   "outputs": [],
   "source": [
    "## Step 1: Import Dependencies\n",
    "\n",
    "import pandas as pd\n",
    "import numpy as np\n",
    "import matplotlib.pyplot as plt\n",
    "import seaborn as sns"
   ]
  },
  {
   "cell_type": "code",
   "execution_count": 2,
   "id": "be8223c5",
   "metadata": {},
   "outputs": [
    {
     "name": "stdout",
     "output_type": "stream",
     "text": [
      "Shape of data: (3078, 23)\n",
      "   TransactionID CustomerID   Restaurant  Location       Date      Time  \\\n",
      "0          10001   CUST0093     TacoTime   Chicago 2024-11-02  11:18:00   \n",
      "1          10002   CUST0089      PizzaCo  New York 2024-11-02  13:27:00   \n",
      "2          10003   CUST0092     TacoTime   Houston 2024-11-02  18:34:00   \n",
      "3          10004   CUST0014  BurgerPlace   Houston 2024-11-02  12:15:00   \n",
      "4          10005   CUST0089      PizzaCo  New York 2024-11-02  12:10:00   \n",
      "\n",
      "    OrderType PaymentMethod  \\\n",
      "0     Dine-in     Gift Card   \n",
      "1    Delivery          Cash   \n",
      "2     Dine-in    Mobile App   \n",
      "3     Takeout   Credit Card   \n",
      "4  Drive-thru   Credit Card   \n",
      "\n",
      "                                        ItemsOrdered  Subtotal  ...  \\\n",
      "0                         Beans, Quesadilla, Burrito     19.47  ...   \n",
      "1  Veggie Pizza, Chicken Wings, Meat Lovers Pizza...     51.96  ...   \n",
      "2                                 Beef Taco, Burrito     12.98  ...   \n",
      "3                                       Cheeseburger      8.99  ...   \n",
      "4                   Cheese Pizza, Soda, Veggie Pizza     31.47  ...   \n",
      "\n",
      "   DeliveryFee  Total  ProcessingTimeMin  EmployeeID  Weather  PromotionCode  \\\n",
      "0         0.00  19.77               38.0      EMP012    Clear        LOYALTY   \n",
      "1         3.19  57.10               28.0      EMP025    Clear            NaN   \n",
      "2         0.00  16.82               44.0      EMP006    Sunny            NaN   \n",
      "3         0.00   9.73               17.0      EMP026    Clear            NaN   \n",
      "4         0.00  34.07                9.0      EMP010    Sunny           BOGO   \n",
      "\n",
      "  SatisfactionRating TransactionType RefundReason  OriginalTransactionID  \n",
      "0                4.0        Purchase          NaN                    NaN  \n",
      "1                NaN        Purchase          NaN                    NaN  \n",
      "2                2.0        Purchase          NaN                    NaN  \n",
      "3                5.0        Purchase          NaN                    NaN  \n",
      "4                NaN        Purchase          NaN                    NaN  \n",
      "\n",
      "[5 rows x 23 columns]\n"
     ]
    }
   ],
   "source": [
    "## Step 2: Load Data\n",
    "\n",
    "df = pd.read_excel(\"restaurant_transactions.xlsx\")\n",
    "\n",
    "print(f\"Shape of data: {df.shape}\")\n",
    "print(df.head())"
   ]
  },
  {
   "cell_type": "code",
   "execution_count": 3,
   "id": "e320267a",
   "metadata": {},
   "outputs": [
    {
     "name": "stdout",
     "output_type": "stream",
     "text": [
      "\n",
      "Data Types: \n",
      "TransactionID                     int64\n",
      "CustomerID                       object\n",
      "Restaurant                       object\n",
      "Location                         object\n",
      "Date                     datetime64[ns]\n",
      "Time                             object\n",
      "OrderType                        object\n",
      "PaymentMethod                    object\n",
      "ItemsOrdered                     object\n",
      "Subtotal                        float64\n",
      "Discount                        float64\n",
      "Tax                             float64\n",
      "Tip                             float64\n",
      "DeliveryFee                     float64\n",
      "Total                           float64\n",
      "ProcessingTimeMin               float64\n",
      "EmployeeID                       object\n",
      "Weather                          object\n",
      "PromotionCode                    object\n",
      "SatisfactionRating              float64\n",
      "TransactionType                  object\n",
      "RefundReason                     object\n",
      "OriginalTransactionID           float64\n",
      "dtype: object\n"
     ]
    }
   ],
   "source": [
    "print(\"\\nData Types: \")\n",
    "print(df.dtypes)"
   ]
  },
  {
   "cell_type": "code",
   "execution_count": 4,
   "id": "a3061a0f",
   "metadata": {},
   "outputs": [
    {
     "name": "stdout",
     "output_type": "stream",
     "text": [
      "TransactionID               0\n",
      "CustomerID                  0\n",
      "Restaurant                  0\n",
      "Location                    0\n",
      "Date                        0\n",
      "Time                        0\n",
      "OrderType                   0\n",
      "PaymentMethod               0\n",
      "ItemsOrdered                0\n",
      "Subtotal                    0\n",
      "Discount                    0\n",
      "Tax                         0\n",
      "Tip                         0\n",
      "DeliveryFee                 0\n",
      "Total                       0\n",
      "ProcessingTimeMin          11\n",
      "EmployeeID                 10\n",
      "Weather                     9\n",
      "PromotionCode            2497\n",
      "SatisfactionRating       2067\n",
      "TransactionType             0\n",
      "RefundReason             2917\n",
      "OriginalTransactionID    2917\n",
      "dtype: int64\n"
     ]
    }
   ],
   "source": [
    "print(df.isnull().sum())"
   ]
  },
  {
   "cell_type": "code",
   "execution_count": 5,
   "id": "eaefb77d",
   "metadata": {},
   "outputs": [
    {
     "name": "stdout",
     "output_type": "stream",
     "text": [
      "\n",
      "Unique Restaurants: \n",
      "['TacoTime' 'PizzaCo' 'BurgerPlace' 'SandwichShop' 'BurgerPlace.'\n",
      " 'Pizza Co' 'Pizza Co.' 'Burger Place' 'Burger_Place' 'PizzaCo.']\n",
      "\n",
      "Unique Payment Methods:\n",
      "['Gift Card' 'Cash' 'Mobile App' 'Credit Card' 'Debit Card' 'GIFT CARD'\n",
      " 'credit card' 'gift card' 'cash' 'MOBILE APP' 'mobile app' 'CASH'\n",
      " 'debit card' 'DEBIT CARD' 'CREDIT CARD']\n"
     ]
    }
   ],
   "source": [
    "print(\"\\nUnique Restaurants: \")\n",
    "print(df['Restaurant'].unique())\n",
    "print(\"\\nUnique Payment Methods:\")\n",
    "print(df['PaymentMethod'].unique())"
   ]
  },
  {
   "cell_type": "markdown",
   "id": "eb880756",
   "metadata": {},
   "source": [
    "# Data Quality Issues Added\n",
    "\n",
    "This updated code includes several realistic data quality issues that you'll need to clean:\n",
    "\n",
    "1. **Refund Transactions**:\n",
    "   * Added refund transactions (about 5% of transactions) with negative amounts\n",
    "   * Linked to original transactions via OriginalTransactionID\n",
    "   * Only applied to credit card transactions\n",
    "\n",
    "2. **Inconsistent Formatting**:\n",
    "   * Restaurant names have variations (e.g., \"PizzaCo\", \"Pizza Co\", \"Pizza Co.\")\n",
    "   * Payment methods have inconsistent capitalization\n",
    "\n",
    "3. **Missing Values**:\n",
    "   * Some rows have NULL values for Weather, EmployeeID, or ProcessingTimeMin\n",
    "\n",
    "4. **Duplicate Transactions**:\n",
    "   * About 1% of transactions are duplicated with new transaction IDs\n",
    "\n",
    "5. **Calculation Errors**:\n",
    "   * Some refund transactions have slight discrepancies between components and totals"
   ]
  },
  {
   "cell_type": "code",
   "execution_count": 6,
   "id": "c4896e08",
   "metadata": {},
   "outputs": [
    {
     "name": "stdout",
     "output_type": "stream",
     "text": [
      "Restaurant\n",
      "PizzaCo         821\n",
      "TacoTime        792\n",
      "SandwichShop    746\n",
      "BurgerPlace     688\n",
      "Burger Place      9\n",
      "Pizza Co          7\n",
      "BurgerPlace.      5\n",
      "Pizza Co.         4\n",
      "Burger_Place      4\n",
      "PizzaCo.          2\n",
      "Name: count, dtype: int64\n",
      "Restaurant\n",
      "PizzaCo         834\n",
      "TacoTime        792\n",
      "SandwichShop    746\n",
      "BurgerPlace     706\n",
      "Name: count, dtype: int64\n"
     ]
    }
   ],
   "source": [
    "# Step 3: Clean Data\n",
    "\n",
    "# 3a: Standardize restaurant names\n",
    "print(df['Restaurant'].value_counts())\n",
    "\n",
    "# Create mapping dictionary\n",
    "restaurant_mapping = {\n",
    "    \"Pizza Co\" : \"PizzaCo\",\n",
    "    \"Pizza Co.\" : \"PizzaCo\",\n",
    "    'PizzaCo.' : 'PizzaCo',\n",
    "    'Burger Place' : 'BurgerPlace',\n",
    "    'BurgerPlace.' : 'BurgerPlace',\n",
    "    'Burger_Place' : 'BurgerPlace'\n",
    "}\n",
    "\n",
    "df['Restaurant'] = df['Restaurant'].replace(restaurant_mapping)\n",
    "\n",
    "print(df['Restaurant'].value_counts())"
   ]
  },
  {
   "cell_type": "code",
   "execution_count": 7,
   "id": "837e9f1a",
   "metadata": {},
   "outputs": [
    {
     "name": "stdout",
     "output_type": "stream",
     "text": [
      "PaymentMethod\n",
      "Credit Card    711\n",
      "Debit Card     619\n",
      "Cash           566\n",
      "Gift Card      562\n",
      "Mobile App     529\n",
      "gift card       15\n",
      "credit card     14\n",
      "GIFT CARD       11\n",
      "MOBILE APP      10\n",
      "CREDIT CARD      9\n",
      "debit card       8\n",
      "mobile app       7\n",
      "CASH             7\n",
      "cash             5\n",
      "DEBIT CARD       5\n",
      "Name: count, dtype: int64\n",
      "\n",
      "After replacement: \n",
      "PaymentMethod\n",
      "Credit Card    734\n",
      "Debit Card     632\n",
      "Gift Card      588\n",
      "Cash           578\n",
      "Mobile App     546\n",
      "Name: count, dtype: int64\n"
     ]
    }
   ],
   "source": [
    "# 3b: normalize payment methods\n",
    "print(df['PaymentMethod'].value_counts())\n",
    "\n",
    "payment_mapping = {\n",
    "    'gift card' : 'Gift Card',\n",
    "    'credit card' : 'Credit Card',\n",
    "    'GIFT CARD' : 'Gift Card',\n",
    "    'MOBILE APP' : 'Mobile App',\n",
    "    'CREDIT CARD' : 'Credit Card',\n",
    "    'debit card' : 'Debit Card',\n",
    "    'mobile app' : 'Mobile App',\n",
    "    'CASH' : 'Cash',\n",
    "    'cash' : 'Cash',\n",
    "    'DEBIT CARD' : 'Debit Card'\n",
    "}\n",
    "\n",
    "df['PaymentMethod'] = df['PaymentMethod'].replace(payment_mapping)\n",
    "print(\"\\nAfter replacement: \")\n",
    "print(df['PaymentMethod'].value_counts())\n",
    "\n"
   ]
  },
  {
   "cell_type": "code",
   "execution_count": null,
   "id": "f7e22098",
   "metadata": {},
   "outputs": [
    {
     "name": "stdout",
     "output_type": "stream",
     "text": [
      "Columns with missing values: ['ProcessingTimeMin', 'EmployeeID', 'Weather', 'PromotionCode', 'SatisfactionRating', 'RefundReason', 'OriginalTransactionID']\n",
      "Filled missing weather with most common weather:  Sunny\n",
      "Filled missing employee ID with Unknown\n",
      "Filled Missing processing time for Dine-in with: 29.0\n",
      "Filled Missing processing time for Delivery with: 42.0\n",
      "Filled Missing processing time for Takeout with: 16.0\n",
      "Filled Missing processing time for Drive-thru with: 9.0\n"
     ]
    }
   ],
   "source": [
    "# 3c: Missing values\n",
    "missing_cols = df.columns[df.isnull().any()].tolist()\n",
    "print(f\"Columns with missing values: {missing_cols}\")\n",
    "\n",
    "# Strategy for missing values\n",
    "if 'Weather' in missing_cols:\n",
    "    # Fill in missing weather with most common weather\n",
    "    most_common_weather = df['Weather'].mode()[0]\n",
    "    df['Weather'] = df['Weather'].fillna(most_common_weather)\n",
    "    print('Filled missing weather with most common weather: ', most_common_weather)\n",
    "\n",
    "if 'EmployeeID' in missing_cols:\n",
    "    # Fill in missing employee ID with Unknown\n",
    "    df['EmployeeID'] = df['EmployeeID'].fillna('Unknown')\n",
    "    print(\"Filled missing employee ID with Unknown\")\n",
    "\n",
    "if 'ProcessingTimeMin' in missing_cols:\n",
    "    # Fill in processing tiime with median based on order type\n",
    "    for order_type in df['OrderType'].unique():\n",
    "        median_processing_time = df[df['OrderType'] ==order_type]['ProcessingTimeMin'].median()\n",
    "        df.loc[(df['OrderType'] == order_type) & \n",
    "               (df['ProcessingTimeMin'].isnull()), 'ProcessingTimeMin'] = median_processing_time\n",
    "        print(f\"Filled Missing processing time for {order_type} with: {median_processing_time}\")\n",
    "\n"
   ]
  },
  {
   "cell_type": "code",
   "execution_count": null,
   "id": "ec6ca656",
   "metadata": {},
   "outputs": [],
   "source": [
    "# 3d: remove duplicates\n",
    "\n",
    "# 3e: validate transaction totals (check if total = subtotal - discount + tax + tip + delivery fee)\n",
    "\n"
   ]
  },
  {
   "cell_type": "code",
   "execution_count": 9,
   "id": "deeead8b",
   "metadata": {},
   "outputs": [
    {
     "name": "stdout",
     "output_type": "stream",
     "text": [
      "Number of refund transactions: 161\n"
     ]
    }
   ],
   "source": [
    "# 3f: handle refunds\n",
    "refunds = df[df['Total'] < 0]\n",
    "print(f\"Number of refund transactions: {len(refunds)}\")\n",
    "\n",
    "\n",
    "\n",
    "\n",
    "# Match refunds with original transaction\n",
    "\n",
    "# remove refunds"
   ]
  },
  {
   "cell_type": "markdown",
   "id": "427a8ff5",
   "metadata": {},
   "source": []
  }
 ],
 "metadata": {
  "kernelspec": {
   "display_name": "finance",
   "language": "python",
   "name": "python3"
  },
  "language_info": {
   "codemirror_mode": {
    "name": "ipython",
    "version": 3
   },
   "file_extension": ".py",
   "mimetype": "text/x-python",
   "name": "python",
   "nbconvert_exporter": "python",
   "pygments_lexer": "ipython3",
   "version": "3.13.2"
  }
 },
 "nbformat": 4,
 "nbformat_minor": 5
}
