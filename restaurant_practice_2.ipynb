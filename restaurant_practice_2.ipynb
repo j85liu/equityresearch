{
 "cells": [
  {
   "cell_type": "markdown",
   "id": "61e57cdf",
   "metadata": {},
   "source": [
    "## Restaurant Practice 2 ##\n",
    "\n",
    "Dataset: restaurant_transactions.xlsx"
   ]
  },
  {
   "cell_type": "code",
   "execution_count": 5,
   "id": "5a010997",
   "metadata": {},
   "outputs": [],
   "source": [
    "## Step 1: Import Dependencies\n",
    "\n",
    "import pandas as pd\n",
    "import numpy as np\n",
    "import matplotlib.pyplot as plt\n",
    "import seaborn as sns"
   ]
  },
  {
   "cell_type": "code",
   "execution_count": 6,
   "id": "be8223c5",
   "metadata": {},
   "outputs": [
    {
     "name": "stdout",
     "output_type": "stream",
     "text": [
      "   TransactionID CustomerID   Restaurant     Location       Date      Time  \\\n",
      "0          10001   CUST0093     TacoTime      Chicago 2024-11-02  11:18:00   \n",
      "1          10002   CUST0022  BurgerPlace      Phoenix 2024-11-02  12:58:00   \n",
      "2          10003   CUST0014     TacoTime  Los Angeles 2024-11-02  08:01:00   \n",
      "3          10004   CUST0044  BurgerPlace  Los Angeles 2024-11-02  19:30:00   \n",
      "4          10005   CUST0124     TacoTime      Phoenix 2024-11-02  18:00:00   \n",
      "\n",
      "  OrderType PaymentMethod                               ItemsOrdered  \\\n",
      "0   Dine-in     Gift Card                 Beans, Quesadilla, Burrito   \n",
      "1   Dine-in    Mobile App             Milkshake, Bacon Burger, Fries   \n",
      "2   Dine-in    Debit Card  Mexican Rice, Beans, Fish Taco, Beef Taco   \n",
      "3   Takeout    Debit Card      Onion Rings, Fries, Soda, Onion Rings   \n",
      "4   Dine-in   Credit Card                               Mexican Rice   \n",
      "\n",
      "   Subtotal  Discount   Tax   Tip  DeliveryFee  Total  ProcessingTimeMin  \\\n",
      "0     19.47      2.87  1.37  1.80          0.0  19.77                 38   \n",
      "1     20.97      0.00  1.73  3.57          0.0  26.27                 19   \n",
      "2     14.46      0.00  1.19  2.88          0.0  18.53                 16   \n",
      "3     16.26      0.00  1.34  0.00          0.0  17.60                 22   \n",
      "4      2.99      0.00  0.25  0.48          0.0   3.72                 22   \n",
      "\n",
      "  EmployeeID Weather PromotionCode  SatisfactionRating  \n",
      "0     EMP012   Clear       LOYALTY                 4.0  \n",
      "1     EMP019  Cloudy           NaN                 1.0  \n",
      "2     EMP030  Cloudy           NaN                 2.0  \n",
      "3     EMP018  Cloudy           NaN                 NaN  \n",
      "4     EMP024   Sunny      FREESIDE                 NaN  \n"
     ]
    }
   ],
   "source": [
    "## Step 2: Load Data\n",
    "\n",
    "df = pd.read_excel(\"restaurant_transactions.xlsx\")\n",
    "print(df.head())"
   ]
  },
  {
   "cell_type": "code",
   "execution_count": 10,
   "id": "a3061a0f",
   "metadata": {},
   "outputs": [
    {
     "name": "stdout",
     "output_type": "stream",
     "text": [
      "      TransactionID  CustomerID  Restaurant  Location   Date   Time  \\\n",
      "0             False       False       False     False  False  False   \n",
      "1             False       False       False     False  False  False   \n",
      "2             False       False       False     False  False  False   \n",
      "3             False       False       False     False  False  False   \n",
      "4             False       False       False     False  False  False   \n",
      "...             ...         ...         ...       ...    ...    ...   \n",
      "3045          False       False       False     False  False  False   \n",
      "3046          False       False       False     False  False  False   \n",
      "3047          False       False       False     False  False  False   \n",
      "3048          False       False       False     False  False  False   \n",
      "3049          False       False       False     False  False  False   \n",
      "\n",
      "      OrderType  PaymentMethod  ItemsOrdered  Subtotal  Discount    Tax  \\\n",
      "0         False          False         False     False     False  False   \n",
      "1         False          False         False     False     False  False   \n",
      "2         False          False         False     False     False  False   \n",
      "3         False          False         False     False     False  False   \n",
      "4         False          False         False     False     False  False   \n",
      "...         ...            ...           ...       ...       ...    ...   \n",
      "3045      False          False         False     False     False  False   \n",
      "3046      False          False         False     False     False  False   \n",
      "3047      False          False         False     False     False  False   \n",
      "3048      False          False         False     False     False  False   \n",
      "3049      False          False         False     False     False  False   \n",
      "\n",
      "        Tip  DeliveryFee  Total  ProcessingTimeMin  EmployeeID  Weather  \\\n",
      "0     False        False  False              False       False    False   \n",
      "1     False        False  False              False       False    False   \n",
      "2     False        False  False              False       False    False   \n",
      "3     False        False  False              False       False    False   \n",
      "4     False        False  False              False       False    False   \n",
      "...     ...          ...    ...                ...         ...      ...   \n",
      "3045  False        False  False              False       False    False   \n",
      "3046  False        False  False              False       False    False   \n",
      "3047  False        False  False              False       False    False   \n",
      "3048  False        False  False              False       False    False   \n",
      "3049  False        False  False              False       False    False   \n",
      "\n",
      "      PromotionCode  SatisfactionRating  \n",
      "0             False               False  \n",
      "1              True               False  \n",
      "2              True               False  \n",
      "3              True                True  \n",
      "4             False                True  \n",
      "...             ...                 ...  \n",
      "3045          False                True  \n",
      "3046           True               False  \n",
      "3047           True                True  \n",
      "3048           True                True  \n",
      "3049           True                True  \n",
      "\n",
      "[3050 rows x 20 columns]\n"
     ]
    }
   ],
   "source": [
    "print(df.isnull())"
   ]
  },
  {
   "cell_type": "markdown",
   "id": "427a8ff5",
   "metadata": {},
   "source": []
  }
 ],
 "metadata": {
  "kernelspec": {
   "display_name": "finance",
   "language": "python",
   "name": "python3"
  },
  "language_info": {
   "codemirror_mode": {
    "name": "ipython",
    "version": 3
   },
   "file_extension": ".py",
   "mimetype": "text/x-python",
   "name": "python",
   "nbconvert_exporter": "python",
   "pygments_lexer": "ipython3",
   "version": "3.13.2"
  }
 },
 "nbformat": 4,
 "nbformat_minor": 5
}
