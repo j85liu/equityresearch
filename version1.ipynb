{
 "cells": [
  {
   "cell_type": "code",
   "execution_count": 2,
   "metadata": {},
   "outputs": [
    {
     "name": "stdout",
     "output_type": "stream",
     "text": [
      "['PX14A6G', '4', '4', '4', '4', '4', '4', '4', '144', '10-Q', '8-K', 'PX14A6G', '3', 'DEFA14A', 'DEF 14A', '8-K', '4', '144', '4', '4', '144', '144', '144', '4', 'S-3ASR', '10-K', '8-K', '4', '4', '144', '4', '4', '4', '4', '4', '144', '144', '144', '144', '5', '4', '4', '4', '4', '4', '4', '8-K', '8-K', '8-K', '4', '4', '4', '144', '10-Q', '8-K', '4', '144', '4', 'UPLOAD', '4', '8-K', '10-Q', '8-K', 'CORRESP', '4', '4', '4', '144', '144', 'CORRESP', '4', '4', '4', '4', '4', '144', '144', '144', 'UPLOAD', 'SD', 'CORRESP', 'UPLOAD', '4', '4', '4', '4', '4', '4', '4', '3', '144', '8-K', 'SC 13G/A', 'SC 13G/A', 'SC 13G/A', 'PX14A6G', '4', '4', '4', '4', '4', '4', '4', '4', 'PX14A6G', 'PX14A6G', '10-Q', '8-K', 'PX14A6G', 'PX14A6G', 'PX14A6G', 'PX14A6G', 'PX14A6G', '25-NSE', 'DEFA14A', 'DEF 14A', '4', '4', '4', '10-K', '8-K', '4', '4', '4', '144', '144', '144', '4', '4', '4', '4', '4', '4', '144', '144', '144', '4', '4', '144', '10-Q', '8-K', '4', '4', '4', '8-K', '424B2', 'FWP', '424B2', '10-Q', '8-K', '4', '4', '144', '4', '144', '4', '4', '4', '4', '4', '4', 'SD', '4', '4', '4', '4', '4', '4', '4', '4', '8-K', 'PX14A6G', 'PX14A6G', 'PX14A6G', 'PX14A6G', 'SC 13G/A', 'SC 13G/A', 'SC 13G/A', '4', '4', '4', '4', '4', '4', '4', '4', 'DEFA14A', '10-Q', '8-K', 'PX14A6G', 'PX14A6G', 'DEFA14A', 'DEF 14A', '4', '25-NSE', '8-K', '4', '10-K', '8-K', '4', '4', '4', '4', '4', '4', '4', '4', '4', '4', '4', '4', '4/A', '4', '8-K', '4', '8-K', '4', '424B2', 'FWP', '424B2', '10-Q', '8-K', '4', '4', 'S-8', 'S-8 POS', 'S-8 POS', '10-Q', '8-K', '4', '4', '4', '4', '4', '4', '4', '4', '4', '4', '4', '4', '4', '4', '8-K', 'SD', 'SC 13G/A', 'PX14A6G', '4', '4', '4', '4', '4', '4', '4', '4', '4', 'PX14A6G', 'PX14A6G', 'SC 13G/A', 'PX14A6G', '10-Q', '8-K', 'PX14A6N', 'DEFA14A', 'DEF 14A', '4', '4', '3', '8-K', '4', 'S-3ASR', 'IRANNOTICE', '10-K', '8-K', '4', '4', '4', '4', '4', '4', '4', '4', '4', '4', '4', '4', '4', '4', '4', '4', '8-K', '4', '424B2', 'FWP', '424B2', 'IRANNOTICE', '10-Q', '8-K', '4', '4', '10-Q', '8-K', '4', '4', '4', '4', '4', '4', '4', '4', '4', '4', '4', '4', '8-K', 'PX14A6G', 'SC 13G/A', 'SD', 'SC 13G/A', '8-K', 'SC 13G/A', '4', '4', '4', '4', '4', '4', '4', '4', '424B2', 'FWP', '424B2', '10-Q', '8-K', '4', '3', 'DEFA14A', 'DEF 14A', '8-K', '4', '4', '10-K', '8-K', '4', '4', '4', '4', '4', '4', '4', '4', '4', '4', '4', '4', '4', '4', '8-K', '424B2', 'FWP', '424B2', '8-K', '10-Q', '8-K', '4', '8-K', '424B2', 'FWP', '424B2', '10-Q', '4', '8-K', '4', '4', '4', '4', '4', '4', '4', '4', '4', '4', '4', '8-K', '8-K', 'SC 13G/A', 'SC 13G/A', 'SC 13G/A', 'SD', '4', '4', '4', '4', '4', '4', '4', '10-Q', '8-K', 'PX14A6G', 'PX14A6G', 'DEFA14A', 'DEF 14A', '4', 'CERT', '8-A12B', '8-K', '4', '424B2', '4', 'FWP', '424B2', 'S-8 POS', '10-K', '8-K', '4', '4', '4', '4', '4', '4', '4', '4', '4', '4', '8-K', '8-K', '424B2', 'FWP', '424B2', '4', '4', '4', '4', '4', '4', '10-Q', '8-K', '4', '4', '10-Q', '8-K', '4', '4', '3/A', '4', '4', '4', 'CERT', '25', '8-A12B', '4', '4', '4', '4', '4', '4', '4', '8-K', 'SD', 'SC 13G', 'SC 13G/A', '4', '3', '8-K', '4', '4', '4', '4', '4', '4', '4', 'PX14A6G', 'SC 13G/A', '10-Q', '8-K', '4', 'DEFA14A', 'DEF 14A', '8-K', '4', '4', 'S-3ASR', '10-K', '8-K', '4', '4', '4', '4', '4', '4', '4', '4', '4', '4', '4', '4', '4', 'S-8', '4', '4', '4', '4', '4', '4', '10-Q', '8-K', '4', '4', '4', '4', '4', '4', '4', '4', '4', '4', '4', '8-K/A', '4', '8-K', '10-Q', '8-K', '4', '4', '4', '4', '4', '4', '4', '4', '4', '4', '4', '4', 'SD', '4', '4', '4', '4', '4', '4', '4', '4', '8-K', 'SC 13G/A', '4', '4', '4', '4', '4', '4', '4', '4', '10-Q', '8-K', 'SC 13G/A', '4', 'DEFA14A', 'DEF 14A', '4', '4', '4', '4', '4', '4', '3', '8-K', '424B2', 'FWP', '424B2', '10-K', '8-K', '4', '4', '4', '4', '4', '4', '4', '4', '4', '8-K', '4', '4', '4', '4', '4', '4', '4', '4', '4', '4', '4', '8-K', '424B2', 'FWP', '424B2', '4', '4', '4', '8-K', '4', '424B2', 'FWP', '424B2', '4', '4', '4', '10-Q', '8-K', '4', '8-K', '4', '424B2', 'FWP', '424B2', '4', '4', '4', '4', '4', 'CERTNYS', '4', '4', '8-A12B', '8-K', '4', '424B2', 'FWP', '424B2', '4', '4', '8-K', '4', '4', '424B2', 'SD', 'FWP', '424B2', '4', '10-Q', '8-K', '4', '4', '4', '4', '4', '4', '4', '4', '4', '4', '4', '4', '4', '4', '4', '4', '8-K', '4', '4', '4', '4', '4', '4', '4', '8-K', '4', '4', '4', '4', '424B2', 'FWP', '424B2', '8-K', 'SC 13G/A', '4', '4', '4', '4', '4', '4', '4', '4', '4', '4', '4', '424B2', 'FWP', '424B2', '4', '10-Q', '8-K', 'PX14A6G', '4', '4', '4', '4', 'SC 13G/A', '4', 'DEFA14A', 'DEF 14A', '4', '4', '8-K', '4', 'NO ACT', '4', '4', '4', '4', '4', '4', 'NO ACT', 'NO ACT', '10-K', '8-K', '4', '4', '4', '4', '4', '4', '4', '4', '4', '4', '4', '4', '4', '4', '4', '4', '4', '4', '4', '4', '4', '4', '4', '4', '4', '4', '4', '4', '4', '4', '4', '4', '4', '8-K', '424B2', 'FWP', '424B2', '10-Q', '8-K', '4', '8-K', '4', '424B2', 'FWP', '424B2', '4', '4', '4', '4', '4', '4', '4', '4', 'S-3ASR', '10-Q', '8-K', '4', '4', '4', '4', '4', '4', '4', '4', '4', '4', 'SD', '8-K', '4', '4', '4', '424B2', 'FWP', '4', '424B2', '4', '4', '4', '4', '4', '4', '4', '4', '8-K', '8-K', '4', '424B2', 'FWP', '424B2', 'SC 13G/A', '4', '4', '4', '4', '4', '4', '4', '10-Q', '8-K', 'SC 13G/A', 'PX14A6G', 'DEFA14A', 'DEF 14A', '3', '8-K', '8-K', 'NO ACT', 'NO ACT', 'NO ACT', 'NO ACT', '4', '4', '4', '4', '4', '10-K', '8-K', '4', '4', '4', '4', '4', '4', '4', '4', '4', '4', '4', '4', '4', '4', '4', '4', '4', '4', '4', '4', '4', '3', '8-K', 'CERTNYS', '4', '8-A12B', '8-K', '424B2', 'FWP', '424B2', '4', 'UPLOAD', 'CORRESP', '4', '4', '4', 'CERTNYS', '8-A12B', '8-K', '4', '4', '424B2', 'FWP', '424B2', '10-Q', '4', '8-K', '4', '8-K', '424B2', 'FWP', '4', '424B2', '4', '4', 'UPLOAD', '8-K', '424B2', 'FWP', '424B2', '4', '4', 'S-8', '10-Q', '4', '4', '8-K', '8-K', '4', '4', '4', '4', '4', '4', '4', 'CORRESP', '4', '4', '8-K', '4', '4', '4', '4', '4', '4', '4', '4', 'UPLOAD', '4', '4', 'SD', 'SC 13G', '8-K', '4', '4', '4', '4', '4', '4', '4', '424B2', 'FWP', 'SC 13G/A', '424B2', '3', '8-K', '10-Q', '4', '8-K', 'DEFA14A', 'DEF 14A', '4', 'NO ACT', 'NO ACT', '4', 'NO ACT', 'NO ACT', '4', '4', 'CERTNYS', '8-A12B', '8-K', '4', '424B2', 'FWP', '424B2', '4', '10-K', '4', '4', '4', '4', '4', '4', '4', '4', '4', '8-K', '4', '4', '4', '4', '4', '4', '4', '4', '4', '4', '4', '4', '4', '4', '8-K', '10-Q', '8-K', '4', '3', '8-K', '4', '8-K', '4', '4', '4', '4', '8-K', 'SD']\n"
     ]
    }
   ],
   "source": [
    "import requests\n",
    "\n",
    "cik = \"0000320193\"  # Apple CIK code\n",
    "url = f\"https://data.sec.gov/submissions/CIK{cik}.json\"\n",
    "headers = {\"User-Agent\": \"James Liu - Columbia Research Project\"}\n",
    "\n",
    "response = requests.get(url, headers=headers)\n",
    "data = response.json()\n",
    "\n",
    "print(data[\"filings\"][\"recent\"][\"form\"])  # Lists latest SEC filings\n"
   ]
  },
  {
   "cell_type": "code",
   "execution_count": null,
   "metadata": {},
   "outputs": [
    {
     "name": "stdout",
     "output_type": "stream",
     "text": [
      "                                 Open        High         Low       Close  \\\n",
      "Date                                                                        \n",
      "2024-02-15 00:00:00-05:00  182.687400  183.622985  180.497743  182.995941   \n",
      "2024-02-16 00:00:00-05:00  182.557985  183.981273  180.816210  181.453201   \n",
      "2024-02-20 00:00:00-05:00  180.935626  181.572617  179.154045  180.706711   \n",
      "2024-02-21 00:00:00-05:00  181.084962  182.030494  179.810978  181.463181   \n",
      "2024-02-22 00:00:00-05:00  182.617693  184.090748  181.602498  183.503510   \n",
      "...                               ...         ...         ...         ...   \n",
      "2025-02-10 00:00:00-05:00  229.570007  230.589996  227.199997  227.649994   \n",
      "2025-02-11 00:00:00-05:00  228.199997  235.229996  228.130005  232.619995   \n",
      "2025-02-12 00:00:00-05:00  231.199997  236.960007  230.679993  236.869995   \n",
      "2025-02-13 00:00:00-05:00  236.910004  242.339996  235.570007  241.529999   \n",
      "2025-02-14 00:00:00-05:00  241.250000  245.550003  240.990005  244.600006   \n",
      "\n",
      "                             Volume  Dividends  Stock Splits  \n",
      "Date                                                          \n",
      "2024-02-15 00:00:00-05:00  65434500       0.00           0.0  \n",
      "2024-02-16 00:00:00-05:00  49701400       0.00           0.0  \n",
      "2024-02-20 00:00:00-05:00  53665600       0.00           0.0  \n",
      "2024-02-21 00:00:00-05:00  41529700       0.00           0.0  \n",
      "2024-02-22 00:00:00-05:00  52292200       0.00           0.0  \n",
      "...                             ...        ...           ...  \n",
      "2025-02-10 00:00:00-05:00  33115600       0.25           0.0  \n",
      "2025-02-11 00:00:00-05:00  53718400       0.00           0.0  \n",
      "2025-02-12 00:00:00-05:00  45243300       0.00           0.0  \n",
      "2025-02-13 00:00:00-05:00  53614100       0.00           0.0  \n",
      "2025-02-14 00:00:00-05:00  40838100       0.00           0.0  \n",
      "\n",
      "[251 rows x 7 columns]\n",
      "3674405863424\n"
     ]
    }
   ],
   "source": [
    "import yfinance as yf\n",
    "\n",
    "ticker = \"AAPL\"\n",
    "stock = yf.Ticker(ticker)\n",
    "\n",
    "print(stock.history(period=\"1y\"))  # Get 1-year historical price data\n",
    "print(stock.info[\"marketCap\"])  # Get market cap\n"
   ]
  },
  {
   "cell_type": "code",
   "execution_count": 6,
   "metadata": {},
   "outputs": [
    {
     "name": "stdout",
     "output_type": "stream",
     "text": [
      "Collecting pytrends\n",
      "  Using cached pytrends-4.9.2-py3-none-any.whl.metadata (13 kB)\n",
      "Requirement already satisfied: requests>=2.0 in /opt/anaconda3/envs/vision/lib/python3.11/site-packages (from pytrends) (2.32.3)\n",
      "Requirement already satisfied: pandas>=0.25 in /opt/anaconda3/envs/vision/lib/python3.11/site-packages (from pytrends) (2.2.2)\n",
      "Requirement already satisfied: lxml in /opt/anaconda3/envs/vision/lib/python3.11/site-packages (from pytrends) (5.2.1)\n",
      "Requirement already satisfied: numpy>=1.23.2 in /opt/anaconda3/envs/vision/lib/python3.11/site-packages (from pandas>=0.25->pytrends) (1.23.5)\n",
      "Requirement already satisfied: python-dateutil>=2.8.2 in /opt/anaconda3/envs/vision/lib/python3.11/site-packages (from pandas>=0.25->pytrends) (2.9.0.post0)\n",
      "Requirement already satisfied: pytz>=2020.1 in /opt/anaconda3/envs/vision/lib/python3.11/site-packages (from pandas>=0.25->pytrends) (2024.1)\n",
      "Requirement already satisfied: tzdata>=2022.7 in /opt/anaconda3/envs/vision/lib/python3.11/site-packages (from pandas>=0.25->pytrends) (2023.3)\n",
      "Requirement already satisfied: charset-normalizer<4,>=2 in /opt/anaconda3/envs/vision/lib/python3.11/site-packages (from requests>=2.0->pytrends) (3.3.2)\n",
      "Requirement already satisfied: idna<4,>=2.5 in /opt/anaconda3/envs/vision/lib/python3.11/site-packages (from requests>=2.0->pytrends) (3.7)\n",
      "Requirement already satisfied: urllib3<3,>=1.21.1 in /opt/anaconda3/envs/vision/lib/python3.11/site-packages (from requests>=2.0->pytrends) (2.2.2)\n",
      "Requirement already satisfied: certifi>=2017.4.17 in /opt/anaconda3/envs/vision/lib/python3.11/site-packages (from requests>=2.0->pytrends) (2024.8.30)\n",
      "Requirement already satisfied: six>=1.5 in /opt/anaconda3/envs/vision/lib/python3.11/site-packages (from python-dateutil>=2.8.2->pandas>=0.25->pytrends) (1.16.0)\n",
      "Using cached pytrends-4.9.2-py3-none-any.whl (15 kB)\n",
      "Installing collected packages: pytrends\n",
      "Successfully installed pytrends-4.9.2\n",
      "                     Tesla  isPartial\n",
      "date                                 \n",
      "2025-02-11 02:00:00     61      False\n",
      "2025-02-11 03:00:00     60      False\n",
      "2025-02-11 04:00:00     55      False\n",
      "2025-02-11 05:00:00     50      False\n",
      "2025-02-11 06:00:00     48      False\n",
      "...                    ...        ...\n",
      "2025-02-17 22:00:00     75      False\n",
      "2025-02-17 23:00:00     70      False\n",
      "2025-02-18 00:00:00     67      False\n",
      "2025-02-18 01:00:00     63      False\n",
      "2025-02-18 02:00:00     67       True\n",
      "\n",
      "[169 rows x 2 columns]\n"
     ]
    },
    {
     "name": "stderr",
     "output_type": "stream",
     "text": [
      "/opt/anaconda3/envs/vision/lib/python3.11/site-packages/pytrends/request.py:260: FutureWarning: Downcasting object dtype arrays on .fillna, .ffill, .bfill is deprecated and will change in a future version. Call result.infer_objects(copy=False) instead. To opt-in to the future behavior, set `pd.set_option('future.no_silent_downcasting', True)`\n",
      "  df = df.fillna(False)\n"
     ]
    }
   ],
   "source": [
    "import sys\n",
    "!{sys.executable} -m pip install pytrends\n",
    "\n",
    "\n",
    "from pytrends.request import TrendReq\n",
    "\n",
    "pytrends = TrendReq()\n",
    "pytrends.build_payload([\"Tesla\"], timeframe=\"now 7-d\")\n",
    "trend_data = pytrends.interest_over_time()\n",
    "\n",
    "print(trend_data)\n"
   ]
  },
  {
   "cell_type": "markdown",
   "metadata": {},
   "source": [
    "Step 3: Automate Financial Modeling & Valuation\n",
    "* DCF (Discounted Cash Flow) Model – Forecast revenue, costs, cash flows.\n",
    "* Comparable Company Analysis (P/E, EV/EBITDA, PEG Ratio)\n",
    "* Monte Carlo Simulation for Stock Price Forecasting"
   ]
  },
  {
   "cell_type": "code",
   "execution_count": 7,
   "metadata": {},
   "outputs": [
    {
     "name": "stdout",
     "output_type": "stream",
     "text": [
      "Estimated DCF Valuation: $2554.17M\n"
     ]
    }
   ],
   "source": [
    "def discounted_cash_flow(cash_flows, discount_rate):\n",
    "    return sum(cf / (1 + discount_rate) ** i for i, cf in enumerate(cash_flows))\n",
    "\n",
    "future_cash_flows = [500, 550, 600, 650, 700]  # Example cash flows\n",
    "discount_rate = 0.08  # 8% WACC\n",
    "\n",
    "valuation = discounted_cash_flow(future_cash_flows, discount_rate)\n",
    "print(f\"Estimated DCF Valuation: ${valuation:.2f}M\")\n"
   ]
  },
  {
   "cell_type": "code",
   "execution_count": 9,
   "metadata": {},
   "outputs": [
    {
     "name": "stdout",
     "output_type": "stream",
     "text": [
      "Collecting dash\n",
      "  Downloading dash-2.18.2-py3-none-any.whl.metadata (10 kB)\n",
      "Collecting Flask<3.1,>=1.0.4 (from dash)\n",
      "  Downloading flask-3.0.3-py3-none-any.whl.metadata (3.2 kB)\n",
      "Requirement already satisfied: Werkzeug<3.1 in /opt/anaconda3/envs/vision/lib/python3.11/site-packages (from dash) (3.0.3)\n",
      "Collecting plotly>=5.0.0 (from dash)\n",
      "  Downloading plotly-6.0.0-py3-none-any.whl.metadata (5.6 kB)\n",
      "Collecting dash-html-components==2.0.0 (from dash)\n",
      "  Downloading dash_html_components-2.0.0-py3-none-any.whl.metadata (3.8 kB)\n",
      "Collecting dash-core-components==2.0.0 (from dash)\n",
      "  Downloading dash_core_components-2.0.0-py3-none-any.whl.metadata (2.9 kB)\n",
      "Collecting dash-table==5.0.0 (from dash)\n",
      "  Downloading dash_table-5.0.0-py3-none-any.whl.metadata (2.4 kB)\n",
      "Requirement already satisfied: importlib-metadata in /opt/anaconda3/envs/vision/lib/python3.11/site-packages (from dash) (8.2.0)\n",
      "Requirement already satisfied: typing-extensions>=4.1.1 in /opt/anaconda3/envs/vision/lib/python3.11/site-packages (from dash) (4.11.0)\n",
      "Requirement already satisfied: requests in /opt/anaconda3/envs/vision/lib/python3.11/site-packages (from dash) (2.32.3)\n",
      "Collecting retrying (from dash)\n",
      "  Downloading retrying-1.3.4-py3-none-any.whl.metadata (6.9 kB)\n",
      "Requirement already satisfied: nest-asyncio in /opt/anaconda3/envs/vision/lib/python3.11/site-packages (from dash) (1.6.0)\n",
      "Requirement already satisfied: setuptools in /opt/anaconda3/envs/vision/lib/python3.11/site-packages (from dash) (72.1.0)\n",
      "Collecting Jinja2>=3.1.2 (from Flask<3.1,>=1.0.4->dash)\n",
      "  Downloading jinja2-3.1.5-py3-none-any.whl.metadata (2.6 kB)\n",
      "Collecting itsdangerous>=2.1.2 (from Flask<3.1,>=1.0.4->dash)\n",
      "  Downloading itsdangerous-2.2.0-py3-none-any.whl.metadata (1.9 kB)\n",
      "Requirement already satisfied: click>=8.1.3 in /opt/anaconda3/envs/vision/lib/python3.11/site-packages (from Flask<3.1,>=1.0.4->dash) (8.1.7)\n",
      "Requirement already satisfied: blinker>=1.6.2 in /opt/anaconda3/envs/vision/lib/python3.11/site-packages (from Flask<3.1,>=1.0.4->dash) (1.6.2)\n",
      "Collecting narwhals>=1.15.1 (from plotly>=5.0.0->dash)\n",
      "  Downloading narwhals-1.27.1-py3-none-any.whl.metadata (10 kB)\n",
      "Requirement already satisfied: packaging in /opt/anaconda3/envs/vision/lib/python3.11/site-packages (from plotly>=5.0.0->dash) (24.1)\n",
      "Requirement already satisfied: MarkupSafe>=2.1.1 in /opt/anaconda3/envs/vision/lib/python3.11/site-packages (from Werkzeug<3.1->dash) (2.1.3)\n",
      "Requirement already satisfied: zipp>=0.5 in /opt/anaconda3/envs/vision/lib/python3.11/site-packages (from importlib-metadata->dash) (3.20.0)\n",
      "Requirement already satisfied: charset-normalizer<4,>=2 in /opt/anaconda3/envs/vision/lib/python3.11/site-packages (from requests->dash) (3.3.2)\n",
      "Requirement already satisfied: idna<4,>=2.5 in /opt/anaconda3/envs/vision/lib/python3.11/site-packages (from requests->dash) (3.7)\n",
      "Requirement already satisfied: urllib3<3,>=1.21.1 in /opt/anaconda3/envs/vision/lib/python3.11/site-packages (from requests->dash) (2.2.2)\n",
      "Requirement already satisfied: certifi>=2017.4.17 in /opt/anaconda3/envs/vision/lib/python3.11/site-packages (from requests->dash) (2024.8.30)\n",
      "Requirement already satisfied: six>=1.7.0 in /opt/anaconda3/envs/vision/lib/python3.11/site-packages (from retrying->dash) (1.16.0)\n",
      "Downloading dash-2.18.2-py3-none-any.whl (7.8 MB)\n",
      "\u001b[2K   \u001b[90m━━━━━━━━━━━━━━━━━━━━━━━━━━━━━━━━━━━━━━━━\u001b[0m \u001b[32m7.8/7.8 MB\u001b[0m \u001b[31m6.9 MB/s\u001b[0m eta \u001b[36m0:00:00\u001b[0ma \u001b[36m0:00:01\u001b[0m\n",
      "\u001b[?25hDownloading dash_core_components-2.0.0-py3-none-any.whl (3.8 kB)\n",
      "Downloading dash_html_components-2.0.0-py3-none-any.whl (4.1 kB)\n",
      "Downloading dash_table-5.0.0-py3-none-any.whl (3.9 kB)\n",
      "Downloading flask-3.0.3-py3-none-any.whl (101 kB)\n",
      "Downloading plotly-6.0.0-py3-none-any.whl (14.8 MB)\n",
      "\u001b[2K   \u001b[90m━━━━━━━━━━━━━━━━━━━━━━━━━━━━━━━━━━━━━━━━\u001b[0m \u001b[32m14.8/14.8 MB\u001b[0m \u001b[31m5.7 MB/s\u001b[0m eta \u001b[36m0:00:00\u001b[0ma \u001b[36m0:00:01\u001b[0m\n",
      "\u001b[?25hDownloading retrying-1.3.4-py3-none-any.whl (11 kB)\n",
      "Downloading itsdangerous-2.2.0-py3-none-any.whl (16 kB)\n",
      "Downloading jinja2-3.1.5-py3-none-any.whl (134 kB)\n",
      "Downloading narwhals-1.27.1-py3-none-any.whl (308 kB)\n",
      "Installing collected packages: dash-table, dash-html-components, dash-core-components, retrying, narwhals, Jinja2, itsdangerous, plotly, Flask, dash\n",
      "Successfully installed Flask-3.0.3 Jinja2-3.1.5 dash-2.18.2 dash-core-components-2.0.0 dash-html-components-2.0.0 dash-table-5.0.0 itsdangerous-2.2.0 narwhals-1.27.1 plotly-6.0.0 retrying-1.3.4\n"
     ]
    },
    {
     "name": "stderr",
     "output_type": "stream",
     "text": [
      "/var/folders/31/b1v52j156gbfz83pmrnth3jc0000gn/T/ipykernel_98733/3875131023.py:6: UserWarning: \n",
      "The dash_core_components package is deprecated. Please replace\n",
      "`import dash_core_components as dcc` with `from dash import dcc`\n",
      "  import dash_core_components as dcc\n",
      "/var/folders/31/b1v52j156gbfz83pmrnth3jc0000gn/T/ipykernel_98733/3875131023.py:7: UserWarning: \n",
      "The dash_html_components package is deprecated. Please replace\n",
      "`import dash_html_components as html` with `from dash import html`\n",
      "  import dash_html_components as html\n"
     ]
    },
    {
     "data": {
      "text/html": [
       "\n",
       "        <iframe\n",
       "            width=\"100%\"\n",
       "            height=\"650\"\n",
       "            src=\"http://127.0.0.1:8050/\"\n",
       "            frameborder=\"0\"\n",
       "            allowfullscreen\n",
       "            \n",
       "        ></iframe>\n",
       "        "
      ],
      "text/plain": [
       "<IPython.lib.display.IFrame at 0x12d5a46d0>"
      ]
     },
     "metadata": {},
     "output_type": "display_data"
    },
    {
     "name": "stderr",
     "output_type": "stream",
     "text": [
      "Could not get exchangeTimezoneName for ticker '' reason: 'chart'\n",
      "$: possibly delisted; no price data found  (period=1d)\n"
     ]
    },
    {
     "name": "stdout",
     "output_type": "stream",
     "text": [
      "---------------------------------------------------------------------------\n",
      "IndexError                                Traceback (most recent call last)\n",
      "Cell In[9], line 28, in update_stock_price(n=1, symbol='')\n",
      "     22 @app.callback(\n",
      "     23     dash.dependencies.Output(\"price-display\", \"children\"),\n",
      "     24     [dash.dependencies.Input(\"update-btn\", \"n_clicks\")],\n",
      "     25     [dash.dependencies.State(\"stock-symbol\", \"value\")]\n",
      "     26 )\n",
      "     27 def update_stock_price(n, symbol):\n",
      "---> 28     price = get_stock_price(symbol)\n",
      "        symbol = ''\n",
      "     29     return f\"Current Price of {symbol}: ${price:.2f}\"\n",
      "\n",
      "Cell In[9], line 13, in get_stock_price(symbol='')\n",
      "     12 def get_stock_price(symbol):\n",
      "---> 13     return yf.Ticker(symbol).history(period=\"1d\")[\"Close\"].iloc[-1]\n",
      "        symbol = ''\n",
      "        yf = <module 'yfinance' from '/opt/anaconda3/envs/vision/lib/python3.11/site-packages/yfinance/__init__.py'>\n",
      "\n",
      "File /opt/anaconda3/envs/vision/lib/python3.11/site-packages/pandas/core/indexing.py:1191, in _LocationIndexer.__getitem__(\n",
      "    self=<pandas.core.indexing._iLocIndexer object>,\n",
      "    key=-1\n",
      ")\n",
      "   1189 maybe_callable = com.apply_if_callable(key, self.obj)\n",
      "   1190 maybe_callable = self._check_deprecated_callable_usage(key, maybe_callable)\n",
      "-> 1191 return self._getitem_axis(maybe_callable, axis=axis)\n",
      "        axis = 0\n",
      "        maybe_callable = -1\n",
      "        self = <pandas.core.indexing._iLocIndexer object at 0x13cba5360>\n",
      "\n",
      "File /opt/anaconda3/envs/vision/lib/python3.11/site-packages/pandas/core/indexing.py:1752, in _iLocIndexer._getitem_axis(\n",
      "    self=<pandas.core.indexing._iLocIndexer object>,\n",
      "    key=-1,\n",
      "    axis=0\n",
      ")\n",
      "   1749     raise TypeError(\"Cannot index by location index with a non-integer key\")\n",
      "   1751 # validate the location\n",
      "-> 1752 self._validate_integer(key, axis)\n",
      "        key = -1\n",
      "        axis = 0\n",
      "        self = <pandas.core.indexing._iLocIndexer object at 0x13cba5360>\n",
      "   1754 return self.obj._ixs(key, axis=axis)\n",
      "\n",
      "File /opt/anaconda3/envs/vision/lib/python3.11/site-packages/pandas/core/indexing.py:1685, in _iLocIndexer._validate_integer(\n",
      "    self=<pandas.core.indexing._iLocIndexer object>,\n",
      "    key=-1,\n",
      "    axis=0\n",
      ")\n",
      "   1683 len_axis = len(self.obj._get_axis(axis))\n",
      "   1684 if key >= len_axis or key < -len_axis:\n",
      "-> 1685     raise IndexError(\"single positional indexer is out-of-bounds\")\n",
      "\n",
      "IndexError: single positional indexer is out-of-bounds\n",
      "\n"
     ]
    }
   ],
   "source": [
    "import sys\n",
    "!{sys.executable} -m pip install dash\n",
    "\n",
    "\n",
    "import dash\n",
    "import dash_core_components as dcc\n",
    "import dash_html_components as html\n",
    "import yfinance as yf\n",
    "\n",
    "app = dash.Dash(__name__)\n",
    "\n",
    "def get_stock_price(symbol):\n",
    "    return yf.Ticker(symbol).history(period=\"1d\")[\"Close\"].iloc[-1]\n",
    "\n",
    "app.layout = html.Div([\n",
    "    html.H1(\"Stock Price Dashboard\"),\n",
    "    dcc.Input(id=\"stock-symbol\", value=\"AAPL\", type=\"text\"),\n",
    "    html.Button(\"Update\", id=\"update-btn\"),\n",
    "    html.H2(id=\"price-display\"),\n",
    "])\n",
    "\n",
    "@app.callback(\n",
    "    dash.dependencies.Output(\"price-display\", \"children\"),\n",
    "    [dash.dependencies.Input(\"update-btn\", \"n_clicks\")],\n",
    "    [dash.dependencies.State(\"stock-symbol\", \"value\")]\n",
    ")\n",
    "def update_stock_price(n, symbol):\n",
    "    price = get_stock_price(symbol)\n",
    "    return f\"Current Price of {symbol}: ${price:.2f}\"\n",
    "\n",
    "if __name__ == \"__main__\":\n",
    "    app.run_server(debug=True)\n"
   ]
  },
  {
   "cell_type": "code",
   "execution_count": null,
   "metadata": {},
   "outputs": [],
   "source": []
  }
 ],
 "metadata": {
  "kernelspec": {
   "display_name": "vision",
   "language": "python",
   "name": "python3"
  },
  "language_info": {
   "codemirror_mode": {
    "name": "ipython",
    "version": 3
   },
   "file_extension": ".py",
   "mimetype": "text/x-python",
   "name": "python",
   "nbconvert_exporter": "python",
   "pygments_lexer": "ipython3",
   "version": "3.11.0"
  }
 },
 "nbformat": 4,
 "nbformat_minor": 2
}
